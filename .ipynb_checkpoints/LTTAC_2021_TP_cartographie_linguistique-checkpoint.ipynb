{
 "cells": [
  {
   "cell_type": "markdown",
   "id": "43381ce7",
   "metadata": {},
   "source": [
    "# Web scraping pour construire une carte interactive en HTML"
   ]
  },
  {
   "cell_type": "markdown",
   "id": "6199e3d5",
   "metadata": {},
   "source": [
    "Dans cet exercice, vous allez produire une carte interactive en HTML à partir de données extraites d'une page web. Pour ce faire, vous allez :\n",
    "1. Extraire les données petinentes d'un tableau présenté sur une page web.\n",
    "2. Les stocker dans un format de données approprié.\n",
    "3. Déclarer et paramétrer une carte.\n",
    "4. Créer une couche de données pour y ajouter les points dont vous avez obtenu les coordonnées."
   ]
  },
  {
   "cell_type": "markdown",
   "id": "722121b5",
   "metadata": {},
   "source": [
    "<small>**Les données utilisées sont issues de la page [*Family: Tai-Kadai*](https://glottolog.org/resource/languoid/id/taik1256) de  [Glottolog](https://glottolog.org/)**\\\n",
    "Glottolog 4.5 edited by Hammarström, Harald & Forkel, Robert & Haspelmath, Martin & Bank, Sebastian\n",
    "is licensed under a [Creative Commons Attribution 4.0 International License](https://creativecommons.org/licenses/by/4.0/).</small>"
   ]
  },
  {
   "cell_type": "markdown",
   "id": "5835bdd5",
   "metadata": {},
   "source": [
    "## Récupérer les coordonnées géographiques des points"
   ]
  },
  {
   "cell_type": "markdown",
   "id": "ec16007d",
   "metadata": {},
   "source": [
    "**Vous trouverez [sur cette page](https://alxdrdelaporte.github.io/works/taik1256_glottolog_table.html) un tableau de données correspondant aux langues de la famille Tai-Kadai. Chaque ligne du tableau représente une langue, qui sera représentée par un point sur la carte.**"
   ]
  },
  {
   "cell_type": "markdown",
   "id": "c3cece91",
   "metadata": {},
   "source": [
    "### Imports"
   ]
  },
  {
   "cell_type": "markdown",
   "id": "54e6a38f",
   "metadata": {},
   "source": [
    "Vous n'avez pas besoin de modifier la cellule ci-dessous, elle contient les modules et librairies Python dont vous aurez besoin pour cette partie du travail. Pour que le programme fonctionne, n'oubliez pas de l'exécuter quand même ! (`ctrl`+`enter` ou `shift`+`enter`)"
   ]
  },
  {
   "cell_type": "code",
   "execution_count": null,
   "id": "47ded8b5",
   "metadata": {},
   "outputs": [],
   "source": [
    "# Parsing HTML\n",
    "from bs4 import BeautifulSoup as soup\n",
    "# Client web\n",
    "from urllib.request import urlopen as uReq\n",
    "import urllib.request"
   ]
  },
  {
   "cell_type": "markdown",
   "id": "992b0002",
   "metadata": {},
   "source": [
    "### Fonctions"
   ]
  },
  {
   "cell_type": "markdown",
   "id": "111a7e3f",
   "metadata": {},
   "source": [
    "Vous pouvez également laisser telle quelle la cellule suivante.\n",
    "\n",
    "Elle comporte 2 fonctions que je vous fournis pour faciliter votre travail :\n",
    "1. `url_ok()` prend en paramètre une URL et vérifie si elle est accessible. Vous n'aurez pas besoin d'appeler directement cette fonction, elle sera utilisée par la fonction `good_soup()`.\n",
    "2. `good_soup()` prend elle aussi une URL en paramètre. Si l'URL est accessible (= validée par `url_ok()`), cette fonction renvoie le HTML parsé que vous pourrez ensuite parcourir."
   ]
  },
  {
   "cell_type": "code",
   "execution_count": null,
   "id": "88a7b07c",
   "metadata": {},
   "outputs": [],
   "source": [
    "def url_ok(url):\n",
    "    \"\"\"Teste si une URL est accessible, paramètre = URl (str)\"\"\"\n",
    "    request = urllib.request.Request(url)\n",
    "    request.get_method = lambda: 'HEAD'\n",
    "    try:\n",
    "        urllib.request.urlopen(request)\n",
    "        return True\n",
    "    except urllib.request.HTTPError:\n",
    "        return False\n",
    "    \n",
    "    \n",
    "def good_soup(url):\n",
    "    \"\"\"Parser le HTML d'une page web avec bs4, paramètre = URL (str)\"\"\"\n",
    "    if url_ok(url):\n",
    "        uClient = uReq(url)\n",
    "        page_html = uClient.read()\n",
    "        uClient.close()\n",
    "        page_soup = soup(page_html, \"html.parser\")\n",
    "        return page_soup"
   ]
  },
  {
   "cell_type": "markdown",
   "id": "65f6b534",
   "metadata": {},
   "source": [
    "**Et maintenant, à vous de jouer !**"
   ]
  },
  {
   "cell_type": "markdown",
   "id": "1479778c",
   "metadata": {},
   "source": [
    "### Extraire le tableau de la page"
   ]
  },
  {
   "cell_type": "markdown",
   "id": "e4968a40",
   "metadata": {},
   "source": [
    "Afin d'explorer le code source d'une page web, il faut préalablement le parser pour pouvoir l'explorer automatiquement. C'est exactement ce que fait la fonction `good_soup()` présentée ci-dessus.\n",
    "\n",
    "Appelez cette fonction sur l'URL de la page où se trouve le tableau, en associant le résultat à la variable `ma_soupe`."
   ]
  },
  {
   "cell_type": "code",
   "execution_count": null,
   "id": "31b2c244",
   "metadata": {},
   "outputs": [],
   "source": [
    "# Appeler la fonction good_soup() sur l'URL"
   ]
  },
  {
   "cell_type": "markdown",
   "id": "a620b444",
   "metadata": {},
   "source": [
    "S'il n'y a pas d'erreur, appeler `ma_soupe`ou utiliser `print(ma_soupe)` devrait afficher le code source de la page HTML."
   ]
  },
  {
   "cell_type": "code",
   "execution_count": null,
   "id": "f57df996",
   "metadata": {},
   "outputs": [],
   "source": [
    "ma_soupe"
   ]
  },
  {
   "cell_type": "markdown",
   "id": "ec263e2b",
   "metadata": {},
   "source": [
    "La page ne contient pas que le tableau, il va falloir l'isoler du reste du contenu. \n",
    "\n",
    "Pour récupérer un élément unique sur une page, la librairie `bs4` ([documentation](https://www.crummy.com/software/BeautifulSoup/bs4/doc)) dispose d'une fonction `find()`. Elle peut par exemple prendre en argument :\n",
    "* L'identifiant de l'élément avec la syntaxe `objetbs4.find(id=\"identifiant_element\")`\n",
    "* Le tag de l'élément avec la syntaxe `objetbs4.find(\"tag\")`\n",
    "\n",
    "Dans le second cas, si plusieurs éléments de la page comportent le même tag, seul le premier sera récupéré.\n",
    "\n",
    "Ici, il n'y a qu'un tableau sur la page et celui-ci porte un identifiant, les deux solutions mèneront au même résultat. Le contenu de votre variable `ma_soupe` étant un objet `bs4`, vous pouvez appeler la fonction `find()` dessus.\n",
    "\n",
    "Dans la cellule ci-dessous, appelez `find()` sur `ma_soupe` en renseignant l'argument de façon à obtenir le code HTML correspondant uniquement au tableau. Le résultat sera associé à la variable `tableau`."
   ]
  },
  {
   "cell_type": "code",
   "execution_count": null,
   "id": "6ac1cab7",
   "metadata": {},
   "outputs": [],
   "source": [
    "# isoler le tableau dans le code source de la page (ma_soupe)"
   ]
  },
  {
   "cell_type": "markdown",
   "id": "ca337e84",
   "metadata": {},
   "source": [
    "Comme pour le parsing de la page dans son ensemble, vous pouvez vérifier qu'il n'y a pas de problème :"
   ]
  },
  {
   "cell_type": "code",
   "execution_count": null,
   "id": "952768ff",
   "metadata": {},
   "outputs": [],
   "source": [
    "# vérifier le contenu de la variable tableau"
   ]
  },
  {
   "cell_type": "markdown",
   "id": "3fe47301",
   "metadata": {},
   "source": [
    "### Filtrer le contenu du tableau"
   ]
  },
  {
   "cell_type": "markdown",
   "id": "200d475b",
   "metadata": {},
   "source": [
    "Pour produire une carte, les seules données indispensables sont les coordonnées géographiques de chaque point. Il est nécessaire de les récupérer.\n",
    "\n",
    "Par ailleurs, pour que les données restent interprétables, il serait aussi préférable de conserver une indication de ce à quoi correspond chaque paire de coordonnées, comme le nom et/ou l'identifiant de la langue.\n",
    "\n",
    "Pour parcourir les lignes du tableau, il n'est pas possible d'utiliser `find(\"tr\")` qui ne renverrait que la première ligne. Heureusement, la fonction `find_all()` s'utilise de façon similaire et renvoie tous les éléments correspondant à la requête. Le résultat de `find_all()` peut être parcouru avec une boucle `for`.\n",
    "\n",
    "Complétez la cellule ci-dessous pour afficher chacune des lignes du tableau :"
   ]
  },
  {
   "cell_type": "code",
   "execution_count": null,
   "id": "03e582d5",
   "metadata": {},
   "outputs": [],
   "source": [
    "for ligne in XXX:\n",
    "    print(ligne)"
   ]
  },
  {
   "cell_type": "markdown",
   "id": "f2ca77e2",
   "metadata": {},
   "source": [
    "La ligne d'étiquettes n'est pas une ligne de données, nous ne voulons pas la récupérer ! Si ce n'est pas fait, adaptez le code de la cellule précédente pour n'afficher que les lignes de données.\n",
    "\n",
    "Vous l'aviez peut-être deviné en appliquant la consigne précédente, mais `find_all()` permet d'appliquer un index à ses résultats. En reprenant la boucle `for` qui parcourt les lignes du tableau, vous pouvez maintenant afficher uniquement les colonnes pertinentes du tableau."
   ]
  },
  {
   "cell_type": "code",
   "execution_count": null,
   "id": "21f423d2",
   "metadata": {},
   "outputs": [],
   "source": [
    "# n'afficher que les lignes correspondant à la longitude, la latitude, le nom et l'identifiant"
   ]
  },
  {
   "cell_type": "markdown",
   "id": "90dd082b",
   "metadata": {},
   "source": [
    "Très bien, les données que nous cherchons à récupérer sont bien là, mais elles sont encore entourées de balises `<td>`. Pour les supprimer, vous pouvez faire appel à l'attribut `.text` des objets `bs4`, qui correspond au contenu textuel de l'élément concerné. Par exemple :"
   ]
  },
  {
   "cell_type": "code",
   "execution_count": null,
   "id": "c9127e12",
   "metadata": {},
   "outputs": [],
   "source": [
    "ma_soupe.find(\"h1\").text"
   ]
  },
  {
   "cell_type": "markdown",
   "id": "796fa685",
   "metadata": {},
   "source": [
    "### Stocker les données dans un dictionnaire"
   ]
  },
  {
   "cell_type": "markdown",
   "id": "edbc6a11",
   "metadata": {},
   "source": [
    "Modifier la boucle `for` en appelant l'attribut `.text` des éléments permettrait d'afficher le texte dans la console, mais en l'état les données ne seront enregistrées nulle part et il ne sera donc pas possible de les réutiliser sans devoir les produire à nouveau.\n",
    "\n",
    "La solution qui sera utilisée ici est la suivante :\n",
    "* L'ensemble des lignes sera stockée dans une [liste](https://docs.python.org/fr/3.10/tutorial/datastructures.html#more-on-lists).\n",
    "* Dans cette liste, chacune des lignes correspondra à un [dictionnaire](https://docs.python.org/fr/3.10/tutorial/datastructures.html#dictionaries), c'est-à-dire une liste associative.\n",
    "\n",
    "Une liste vide est initiée avec `[]`.\n",
    "\n",
    "Un dictionnaire vide s'initie avec `{}`. Pour déclarer un nouveau dictionnaire en ajoutant directement les données, la syntaxe est la suivante :\n",
    "\n",
    "```\n",
    "nom_dictionnaire = {\"clé1\": valeur1, \"clé2\": valeur2, ..., \"cléX\": valeurX}\n",
    "```\n",
    "\n",
    "Pour ajouter des données à un dictionnaire déjà créé, vous pouvez utiliser :\n",
    "\n",
    "\n",
    "```\n",
    "nom_dictionnaire[\"clé\"]= valeur\n",
    "```"
   ]
  },
  {
   "cell_type": "markdown",
   "id": "4d17b357",
   "metadata": {},
   "source": [
    "Voici déjà la liste qui va accueillir l'ensemble des données."
   ]
  },
  {
   "cell_type": "code",
   "execution_count": null,
   "id": "ec915e09",
   "metadata": {},
   "outputs": [],
   "source": [
    "# Liste qui va accueillir les dictionnaires\n",
    "donnees = []"
   ]
  },
  {
   "cell_type": "markdown",
   "id": "da9cbb89",
   "metadata": {},
   "source": [
    "Il faut maintenant peupler cette liste, en lui ajoutant un dictionnaire pour chaque ligne extraite du tableau.\n",
    "\n",
    "En vous aidant de la boucle `for` déjà écrite et de la [documentation](https://docs.python.org/fr/3.10/tutorial/datastructures.html), complétez la fonction ci-dessous pour obtenir la liste des données :"
   ]
  },
  {
   "cell_type": "code",
   "execution_count": null,
   "id": "0dfe2d37",
   "metadata": {},
   "outputs": [],
   "source": [
    "for ligne in XXX:\n",
    "    dico_ligne = {\n",
    "        # longitude\n",
    "        # latitude\n",
    "        # nom\n",
    "        # identifiant\n",
    "    }\n",
    "    # ajouter dico_lignes à la liste donnees"
   ]
  },
  {
   "cell_type": "markdown",
   "id": "fd297286",
   "metadata": {},
   "source": [
    "S'il n'y a pas d'erreur, le début du contenu de `donnees` devrait ressembler à ceci :\n",
    "\n",
    "```\n",
    "[{'longitude': '104.812',\n",
    "  'latitude': '23.2384',\n",
    "  'nom': 'Pubiao-Qabiao',\n",
    "  'id': 'qabi1235'},\n",
    " {'longitude': '105.754',\n",
    "  'latitude': '23.342',\n",
    "  'nom': 'Yerong-Southern Buyang',\n",
    "  'id': 'yero1238'},\n",
    "```\n",
    "\n",
    "Appelez la liste `donnees` pour vérifier qu'il n'y a pas de problème."
   ]
  },
  {
   "cell_type": "code",
   "execution_count": null,
   "id": "33b2470d",
   "metadata": {},
   "outputs": [],
   "source": [
    "# vérifier le contenu de donnees"
   ]
  },
  {
   "cell_type": "markdown",
   "id": "3b48c49d",
   "metadata": {},
   "source": [
    "## Construire la représentation cartographique"
   ]
  },
  {
   "cell_type": "markdown",
   "id": "96da961c",
   "metadata": {},
   "source": [
    "### Import de la librairie `folium`"
   ]
  },
  {
   "cell_type": "markdown",
   "id": "4610e67f",
   "metadata": {},
   "source": [
    "Pour produire une carte au format HTML, vous aurez besoin de la librairie `folium`. Celle-ci est importée dans la cellule ci-dessous, qui n'a pas besoin d'être modifiée."
   ]
  },
  {
   "cell_type": "code",
   "execution_count": null,
   "id": "09caa663",
   "metadata": {},
   "outputs": [],
   "source": [
    "import folium"
   ]
  },
  {
   "cell_type": "markdown",
   "id": "eb2859a3",
   "metadata": {},
   "source": [
    "### Mettre en place le fond de carte"
   ]
  },
  {
   "cell_type": "markdown",
   "id": "9de33cbd",
   "metadata": {},
   "source": [
    "Avant de représenter les données, il faut d'abord déclarer et paramétrer la carte, via une instance d'objet `Map` de la librairie `folium`. Vous pouvez éventuellement initialiser l'objet sans lui attribuer de paramètre, en l'associant à la variable `ma_carte`."
   ]
  },
  {
   "cell_type": "code",
   "execution_count": null,
   "id": "b54dfa84",
   "metadata": {},
   "outputs": [],
   "source": [
    "# déclarez la variable ma_carte en lui associant une instance d'objet folium Map() sans préciser de paramètre "
   ]
  },
  {
   "cell_type": "markdown",
   "id": "d003eac4",
   "metadata": {},
   "source": [
    "Pour obtenir un aperçu de la carte, il suffit d'appeler la variable dans laquelle elle est stockée."
   ]
  },
  {
   "cell_type": "code",
   "execution_count": null,
   "id": "f6122c88",
   "metadata": {},
   "outputs": [],
   "source": [
    "# prévisualiser la carte"
   ]
  },
  {
   "cell_type": "markdown",
   "id": "c691b3b6",
   "metadata": {},
   "source": [
    "Vous obtenez bien une carte, mais cette vue par défaut n'est ni satisfaisante ni optimale pour visualiser des données.\n",
    "\n",
    "Déclarez à nouveau votre carte, en renseignant au moins les paramètres `location` (coordonnées par défaut), `zoom_start` (zoom par défaut, basé sur la valeur de `location`), et `tiles` (fond de carte par défaut).\n",
    "\n",
    "Pour ce faire, vous pouvez vous aider de [cette page de la documentation de `folium`](https://python-visualization.github.io/folium/modules.html). Si vous ne lisez pas l'anglais, [cet article de *Tekipaki*](https://tekipaki.hypotheses.org/1225) peut également vous apporter des informations."
   ]
  },
  {
   "cell_type": "code",
   "execution_count": null,
   "id": "0fe2dcf2",
   "metadata": {},
   "outputs": [],
   "source": [
    "# déclarer à nouveau la carte avec ses paramètres"
   ]
  },
  {
   "cell_type": "code",
   "execution_count": null,
   "id": "5ea49422",
   "metadata": {},
   "outputs": [],
   "source": [
    "# prévisualiser à nouveau la carte"
   ]
  },
  {
   "cell_type": "markdown",
   "id": "76157560",
   "metadata": {},
   "source": [
    "C'est (normalement) beaucoup mieux comme ça !"
   ]
  },
  {
   "cell_type": "markdown",
   "id": "d38ef5fc",
   "metadata": {},
   "source": [
    "### Déclarer une couche de données"
   ]
  },
  {
   "cell_type": "markdown",
   "id": "8ffdfa4e",
   "metadata": {},
   "source": [
    "Il est temps d'ajouter à la carte les données extraites du tableau HTML. Voici comment procéder :\n",
    "1. Déclarer une couche de données\n",
    "2. Ajouter les données à la couche\n",
    "3. Ajouter la couche à la carte\n",
    "\n",
    "La couche de données correspond à un objet de `folium` nommé `FeatureGroup`. Vous trouverez ses différents paramètres dans [la documentation](https://python-visualization.github.io/folium/modules.html#folium.map.FeatureGroup), mais vous pouvez ici l'initialiser avec seulement le paramètre `name`. \n",
    "\n",
    "Pour pouvoir l'ajouter à la carte ensuite il est indispensable de stocker les informations de la couche de données dans une variable ; je vous conseille de la nommer de façon à identifier quelles sont les données correspondantes (vous pouvez par exemple reprendre l'identifiant Glottolog de la famille Tai-Kadai)."
   ]
  },
  {
   "cell_type": "code",
   "execution_count": null,
   "id": "b88876e3",
   "metadata": {},
   "outputs": [],
   "source": [
    "# déclarer une couche de données en renseignant le paramètre name, l'associer à une variable nommée explicitement"
   ]
  },
  {
   "cell_type": "markdown",
   "id": "ba73411d",
   "metadata": {},
   "source": [
    "### Reporter les coordonnées géographiques dans la couche de données"
   ]
  },
  {
   "cell_type": "markdown",
   "id": "24daef1c",
   "metadata": {},
   "source": [
    "La couche de données existe maintenant dans le sens où une instance d'objet `FeatureGroup` a été créé, mais elle ne comporte aucune information (à part son nom), et n'est pas reliée à la carte.\n",
    "\n",
    "Pour rappel, les coordonnées sont actuellement stockées dans la variable `donnees`, sous forme d'une liste de dictionnaires."
   ]
  },
  {
   "cell_type": "markdown",
   "id": "ad4c0faf",
   "metadata": {},
   "source": [
    "Celles-ci correspondent à une série de points. Dans le code, chaque point correspondra à un objet `folium.CircleMarker()` qui prendra en paramètre les coordonnées géographiques dans une liste `[latitude, longitude]`. "
   ]
  },
  {
   "cell_type": "markdown",
   "id": "907a7610",
   "metadata": {},
   "source": [
    "Vous disposez en fait déjà de tout ce qu'il vous faut pour ajouter vos points à la couche de données.\\\n",
    "Sachant qu'un point est ajouté avec la fonction `.add_to(nom_de_la_couche_de_donnees)`, décommentez et complétez le code de la cellule suivante :"
   ]
  },
  {
   "cell_type": "code",
   "execution_count": null,
   "id": "0309b575",
   "metadata": {},
   "outputs": [],
   "source": [
    "\"\"\"\n",
    "for XXX in XXX:\n",
    "    folium.CircleMarker(\n",
    "        location=XXX,\n",
    "    ).add_to(XXX)\n",
    "\"\"\""
   ]
  },
  {
   "cell_type": "markdown",
   "id": "ebb37280",
   "metadata": {},
   "source": [
    "### Ajouter la couche de données à la carte"
   ]
  },
  {
   "cell_type": "markdown",
   "id": "b97a69e9",
   "metadata": {},
   "source": [
    "Le plus dur est fait. La fonction `.add_to()` permet également d'ajouter une couche de données à une carte, en utilisant la syntaxe `nom_de_la_couche_de_donnees.add_to(nom_de_la_carte)`."
   ]
  },
  {
   "cell_type": "code",
   "execution_count": null,
   "id": "7795b81b",
   "metadata": {},
   "outputs": [],
   "source": [
    "# ajouter la couche de données à la carte"
   ]
  },
  {
   "cell_type": "markdown",
   "id": "86caa9e0",
   "metadata": {},
   "source": [
    "Félicitations, vous avez terminé ! 🎉 \n",
    "\n",
    "Les point apparaîtront maintenant lorsque vous visualiserez votre carte. Vous pouvez admirer le résultat de votre travail en appelant la variable correspondant à la carte."
   ]
  },
  {
   "cell_type": "code",
   "execution_count": null,
   "id": "2b34bbe1",
   "metadata": {},
   "outputs": [],
   "source": [
    "# visualiser la carte"
   ]
  },
  {
   "cell_type": "markdown",
   "id": "c33971a6",
   "metadata": {},
   "source": [
    "## Aller plus loin"
   ]
  },
  {
   "cell_type": "markdown",
   "id": "aab41a85",
   "metadata": {},
   "source": [
    "Si vous voulez continuer à vous amuser avec les représentations cartographiques produite par `folium`, voici quelques suggestions sur ce que vous pouvez essayer :\n",
    "\n",
    "* Exporter la carte dans un fichier HTML\n",
    "* Tracer d'autres séries de points ou diviser les points en plusieurs séries\n",
    "* Tracer un ou plusieurs polygones\n",
    "* Capturer l'image de la carte dans un fichier PNG\n",
    "* Mettre en place un *layer control*\n",
    "* Définir des fonctions pour répéter aisément les traitements\n",
    "\n",
    "Les différents [articles consacrés à la cartographie de données linguistiques sur *Tekipaki*] pourront vous être utiles si besoin."
   ]
  },
  {
   "cell_type": "markdown",
   "id": "4fc358a1",
   "metadata": {},
   "source": [
    "---"
   ]
  },
  {
   "cell_type": "markdown",
   "id": "d4fee96e",
   "metadata": {},
   "source": [
    "<a rel=\"license\" href=\"http://creativecommons.org/licenses/by-sa/4.0/\"><img alt=\"Licence Creative Commons\" style=\"border-width:0\" src=\"https://i.creativecommons.org/l/by-sa/4.0/88x31.png\" /></a><br /><span xmlns:dct=\"http://purl.org/dc/terms/\" href=\"http://purl.org/dc/dcmitype/InteractiveResource\" property=\"dct:title\" rel=\"dct:type\">LTTAC_2021_TP_cartographie_linguistique</span> de <a xmlns:cc=\"http://creativecommons.org/ns#\" href=\"https://tekipaki.hypotheses.org/\" property=\"cc:attributionName\" rel=\"cc:attributionURL\">Alexander Delaporte</a> est mis à disposition selon les termes de la <a rel=\"license\" href=\"http://creativecommons.org/licenses/by-sa/4.0/\">licence Creative Commons Attribution -  Partage dans les Mêmes Conditions 4.0 International</a>.<br />Code source disponible : <a xmlns:dct=\"http://purl.org/dc/terms/\" href=\"https://github.com/alxdrdelaporte/LTTAC_2021_TP\" rel=\"dct:source\">https://github.com/alxdrdelaporte/LTTAC_2021_TP</a>."
   ]
  }
 ],
 "metadata": {
  "kernelspec": {
   "display_name": "Python 3",
   "language": "python",
   "name": "python3"
  },
  "language_info": {
   "codemirror_mode": {
    "name": "ipython",
    "version": 3
   },
   "file_extension": ".py",
   "mimetype": "text/x-python",
   "name": "python",
   "nbconvert_exporter": "python",
   "pygments_lexer": "ipython3",
   "version": "3.8.10"
  }
 },
 "nbformat": 4,
 "nbformat_minor": 5
}

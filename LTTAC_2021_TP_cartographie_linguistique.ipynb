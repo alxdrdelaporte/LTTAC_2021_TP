{
 "cells": [
  {
   "cell_type": "markdown",
   "id": "43381ce7",
   "metadata": {},
   "source": [
    "# Construire une carte interactive à partir de Glottolog"
   ]
  },
  {
   "cell_type": "markdown",
   "id": "6199e3d5",
   "metadata": {},
   "source": [
    "Dans cet exercice, vous allez produire une carte interactive en HTML, en partant de la page d'une langue (ou famille de langues) de votre choix sur le site [Glottolog](https://glottolog.org/). Pour ce faire, vous allez :\n",
    "1. Naviguer automatiquement sur le site pour afficher la page de la carte, puis la fenêtre contenant les données correspondantes.\n",
    "2. Extraire les coordonnées des points au format GeoJSON.\n",
    "3. Déclarer une carte avec les coordonnées de départ et le fond de carte de votre choix.\n",
    "4. Créer une couche de données et y ajouter les points dont vous avez obtenu les coordonnées."
   ]
  },
  {
   "cell_type": "markdown",
   "id": "a382301a",
   "metadata": {},
   "source": [
    "## Récupérer les données GeoJSON"
   ]
  },
  {
   "cell_type": "markdown",
   "id": "8e4f23be",
   "metadata": {},
   "source": [
    "### Import des librairies et initialisation d'un `webdriver`"
   ]
  },
  {
   "cell_type": "markdown",
   "id": "d4b6db0d",
   "metadata": {},
   "source": [
    "Vous n'avez pas besoin de modifier la cellule ci-dessous, elle contient les modules et librairies Python dont vous aurez besoin pour cette partie du travail. Pour que le programme fonctionne, n'oubliez pas de l'exécuter quand même ! (`ctrl`+`enter` ou `shift`+`enter`)\n",
    "* `webdriver` de `selenium` simule un navigateur web et permettra de mettre en place une navigation scriptée.\n",
    "* `time` propose des fonctions relatives au temps, et vous servira ici à mettre le script en pause pour laisser charger les pages web."
   ]
  },
  {
   "cell_type": "code",
   "execution_count": null,
   "id": "59ef9cbd",
   "metadata": {},
   "outputs": [],
   "source": [
    "from selenium import webdriver\n",
    "import time"
   ]
  },
  {
   "cell_type": "markdown",
   "id": "760a7cee",
   "metadata": {},
   "source": [
    "La cellule ci-dessous peut également rester telle quelle, et initie un objet `webdriver` émulant le navigateur Firefox. Celui-ci correspond à la variable `driver`, que vous pouvez désormais utiiser pour mettre en place une navigation automatique. "
   ]
  },
  {
   "cell_type": "code",
   "execution_count": null,
   "id": "c4b118b1",
   "metadata": {},
   "outputs": [],
   "source": [
    "options = webdriver.FirefoxOptions()\n",
    "options.headless = True\n",
    "options.add_argument('--ignore-certificate-errors')\n",
    "options.add_argument('--incognito')\n",
    "options.add_argument('--headless')\n",
    "webdrivers_path = \"./WebDrivers/\"\n",
    "driver = webdriver.Firefox(webdrivers_path, options=options)"
   ]
  },
  {
   "cell_type": "markdown",
   "id": "4864554e",
   "metadata": {},
   "source": [
    "Pour des explications plus détaillées sur l'utilisation de `selenium` et `webdriver`, vous pouvez consulter [cet article](https://tekipaki.hypotheses.org/1475)."
   ]
  },
  {
   "cell_type": "markdown",
   "id": "1e737fa6",
   "metadata": {},
   "source": [
    "**Pour la suite, à vous de jouer !**"
   ]
  },
  {
   "cell_type": "markdown",
   "id": "b4e993ab",
   "metadata": {},
   "source": [
    "###  Accéder à la page web, cliquer sur le bouton pour afficher la carte"
   ]
  },
  {
   "cell_type": "markdown",
   "id": "b2d24197",
   "metadata": {},
   "source": [
    "Pour commencer, ouvrez votre navigateur préféré et naviguez manuellement sur le site [Glottolog](https://glottolog.org) pour choisir la langue ou famille que vous voulez représenter sur votre carte. Vous trouverez sur [cette page](https://glottolog.org/glottolog/language) une liste des langues disponibles.\n",
    "\n",
    "Affichez la page correspondant à la langue choisie. Son URL devrait correspondre à `https://glottolog.org/resource/languoid/id/` suivi de l'identifiant de la langue dans la base de Glottolog (4 lettres + 4 chiffres).\n",
    "\n",
    "Dans la cellule ci-dessous, associez cette URL à la variable `url`."
   ]
  },
  {
   "cell_type": "code",
   "execution_count": null,
   "id": "97de9541",
   "metadata": {},
   "outputs": [],
   "source": [
    "# url = \"\""
   ]
  },
  {
   "cell_type": "markdown",
   "id": "bf65edd0",
   "metadata": {},
   "source": [
    "La page comporte un bouton *show big map*, tel que montré sur l'image ci-dessous (entouré d'une jolie ellipse orange)."
   ]
  },
  {
   "cell_type": "markdown",
   "id": "4736ac8d",
   "metadata": {},
   "source": [
    "![show big map button](minn1241_webpage_showmapbutton.png \"Show big map button (minn2141)\")"
   ]
  },
  {
   "cell_type": "markdown",
   "id": "c98229a6",
   "metadata": {},
   "source": [
    "Associez le lien vers lequel pointe ce bouton à la variable `map_page`. Accédez ensuite à ce lien via votre objet `driver`déclaré plus haut. La fonction de `driver` permettant d'accéder à une page web s'appelle `.get()` et prend l'URL en paramètre. "
   ]
  },
  {
   "cell_type": "code",
   "execution_count": null,
   "id": "6472ff5b",
   "metadata": {},
   "outputs": [],
   "source": [
    "# associer le lien à la variable map_page\n",
    "# accéder à l'URL avec driver"
   ]
  },
  {
   "cell_type": "markdown",
   "id": "aa09a14c",
   "metadata": {},
   "source": [
    "Si tout se passe bien, votre `driver` accède maintenant à la page sur laquelle est affichée la carte. Mais ça ne suffit pas pour pouvoir générer votre propre carte ensuite. Ce dont vous avez besoin, ce sont les coordonnées géographiques de l'ensemble des points représentés sur la carte."
   ]
  },
  {
   "cell_type": "markdown",
   "id": "52ae7cf7",
   "metadata": {},
   "source": [
    "### Ouvrir la fenêtre contenant les coordonnées des points"
   ]
  },
  {
   "cell_type": "markdown",
   "id": "cbd27005",
   "metadata": {},
   "source": [
    "Ces données sont disponibles au format GeoJSON, vous pouvez y accéder en cliquant sur le bouton *GeoJSON* en haut à droite de la fenêtre de la carte. Si vous cliquez dessus à la main, puis sur le nom de la langue dans le menu déroulant, vous déclencherez l'ouverture d'une fenêtre modale.\n",
    "\n",
    "Dans le navigateur que vous avez ouvert pour naviguer manuellement, inspectez le code source pour récupérer l'identifiant de ce bouton *GeoJSON*. Dans votre script, c'est `driver` qui va repérer cet élément pour que vous puissiez ensuite lui donner l'instruction de cliquer dessus.\n",
    "\n",
    "La fonction de `driver` qui vous permet de repérer un élément donné dans le code source est `.find_element_by_id(\"id-de-l-element\")`. Pour pouvoir l'utiliser ensuite, je vous propose de l'associer à la variable `opener`."
   ]
  },
  {
   "cell_type": "code",
   "execution_count": null,
   "id": "83ff12ac",
   "metadata": {},
   "outputs": [],
   "source": [
    "# associer le bouton GeoJSON à la variable opener"
   ]
  },
  {
   "cell_type": "markdown",
   "id": "3ebb67ab",
   "metadata": {},
   "source": [
    "Votre `driver` a maintenant connaissance du bouton *GeoJSON* mais n'a pas encore interagi avec. \n",
    "\n",
    "Pour cliquer sur un élément, rien de plus simple, il suffit d'appeler dessus la fonction `.click()` (d'où l'intérêt d'avoir associé le bouton à une variable).\n",
    "\n",
    "Ce clic va ouvrir le menu déroulant. Par précaution, il vaut mieux laisser un petit temps de repos pour s'assurer que le chargement est bien terminé. La fonction `time.sleep()` prend en paramètre une durée en secondes, et permet de mettre le script en pause. "
   ]
  },
  {
   "cell_type": "code",
   "execution_count": null,
   "id": "7b813095",
   "metadata": {},
   "outputs": [],
   "source": [
    "# cliquer sur le bouton GeoJSON\n",
    "# mettre le script en pause pendant une seconde"
   ]
  },
  {
   "cell_type": "markdown",
   "id": "baa05e45",
   "metadata": {},
   "source": [
    "Tout ceci est bien entendu invisible, mais tout comme un utilisateur humain qui aurait cliqué sur le bouton *GeoJSON*, `driver` est maintenant capable d'interagir avec les éléments du menu déroulant.\n",
    "\n",
    "Pour ouvrir la fenêtre modale, il faut cliquer sur le nom de la langue dans le menu déroulant, en suivant la même procédure que pour le bouton *GeoJSON*. L'`id` de l'item du menu sur lequel cliquer sera associé à la variable `geo_container`."
   ]
  },
  {
   "cell_type": "code",
   "execution_count": null,
   "id": "97cd3328",
   "metadata": {},
   "outputs": [],
   "source": [
    "# associer l'élément du menu déroulant (nom de la langue) à la variable geo_container\n",
    "# cliquer sur cet élément\n",
    "# mettre le script en pause pendant une seconde"
   ]
  },
  {
   "cell_type": "markdown",
   "id": "f4bc510a",
   "metadata": {},
   "source": [
    "### Extraire le contenu textuel de la fenêtre modale"
   ]
  },
  {
   "cell_type": "markdown",
   "id": "7e51cf6e",
   "metadata": {},
   "source": [
    "La fenêtre modale est maintenant \"affichée\" pour `driver`. Comme pour les autres éléments, pour interagir avec cette fenêtre, il faut commencer par signaler son existence à votre `driver`. \n",
    "\n",
    "Procédez de la même façon qu'avec les boutons pour repérer la fenêtre modale, et associez-la à la variable `geo_contents`. "
   ]
  },
  {
   "cell_type": "code",
   "execution_count": null,
   "id": "f638ae2d",
   "metadata": {},
   "outputs": [],
   "source": [
    "# associer la fenêtre modale à la variable geo_contents"
   ]
  },
  {
   "cell_type": "markdown",
   "id": "2e6783ef",
   "metadata": {},
   "source": [
    "Les données dont vous avez besoin sont à portée de `driver` ! \n",
    "\n",
    "Comment les obtenir ? Si vous observez le contenu de `geojson_contents`, par exemple avec `print()` ou avec `type()`, vous pouvez remarquer qu'il s'agit d'un objet `webelement` (`webelement.FirefoxWebElement`, puisque `driver` a ici été initié à partir d'un pilote Firefox). "
   ]
  },
  {
   "cell_type": "code",
   "execution_count": null,
   "id": "44b15dc9",
   "metadata": {},
   "outputs": [],
   "source": [
    "type(geojson_contents)"
   ]
  },
  {
   "cell_type": "markdown",
   "id": "8f6a7af4",
   "metadata": {},
   "source": [
    "La [documentation *Web Elements*](https://www.selenium.dev/documentation/webdriver/elements/) indique ce que vous pouvez faire avec cette classe d'objets. \n",
    "\n",
    "Parcourez cette documentation pour retrouver comment obtenir le contenu textuel d'un `webelement`. Associez le résultat obtenu à la variable `geojson_data`."
   ]
  },
  {
   "cell_type": "code",
   "execution_count": null,
   "id": "5d0b2cfd",
   "metadata": {},
   "outputs": [],
   "source": [
    "# associer le contenu textuel de la fenêtre modale à la variable geojson_data"
   ]
  },
  {
   "cell_type": "markdown",
   "id": "297a02c7",
   "metadata": {},
   "source": [
    "Pour vérifier si les données ont bien été récupérées, utilisez `print(geojson_data)`. Les données au format GeoJSON devraient alors s'afficher."
   ]
  },
  {
   "cell_type": "code",
   "execution_count": null,
   "id": "00e4e803",
   "metadata": {},
   "outputs": [],
   "source": [
    "print(geojson_data)"
   ]
  },
  {
   "cell_type": "markdown",
   "id": "d5da7345",
   "metadata": {},
   "source": [
    "Si c'est bien le cas, vous pouvez refermer votre `driver` et passer à la suite."
   ]
  },
  {
   "cell_type": "code",
   "execution_count": null,
   "id": "962aa57c",
   "metadata": {},
   "outputs": [],
   "source": [
    "driver.quit()"
   ]
  },
  {
   "cell_type": "markdown",
   "id": "3b48c49d",
   "metadata": {},
   "source": [
    "## Construire la représentation cartographique"
   ]
  },
  {
   "cell_type": "markdown",
   "id": "96da961c",
   "metadata": {},
   "source": [
    "### Import de la librairie `folium`"
   ]
  },
  {
   "cell_type": "markdown",
   "id": "4610e67f",
   "metadata": {},
   "source": [
    "Pour produire une carte au format HTML, vous aurez besoin de la librairie `folium`. Celle-ci est importée dans la cellule ci-dessous, qui n'a pas besoin d'être modifiée."
   ]
  },
  {
   "cell_type": "code",
   "execution_count": null,
   "id": "09caa663",
   "metadata": {},
   "outputs": [],
   "source": [
    "import folium"
   ]
  },
  {
   "cell_type": "markdown",
   "id": "eb2859a3",
   "metadata": {},
   "source": [
    "### Mettre en place le fond de carte"
   ]
  },
  {
   "cell_type": "markdown",
   "id": "9de33cbd",
   "metadata": {},
   "source": [
    "Avant de représenter les données, il faut d'abord déclarer et paramétrer la carte, via une instance d'objet `Map` de la librairie `folium`. Vous pouvez éventuellement initialiser l'objet sans lui attribuer de paramètre, en l'associant à la variable `ma_carte`."
   ]
  },
  {
   "cell_type": "code",
   "execution_count": null,
   "id": "b54dfa84",
   "metadata": {},
   "outputs": [],
   "source": [
    "# déclarez la variable ma_carte en lui associant une instance d'objet folium Map() sans préciser de paramètre "
   ]
  },
  {
   "cell_type": "markdown",
   "id": "d003eac4",
   "metadata": {},
   "source": [
    "Pour obtenir un aperçu de la carte, il suffit d'appeler la variable dans laquelle elle est stockée."
   ]
  },
  {
   "cell_type": "code",
   "execution_count": null,
   "id": "f6122c88",
   "metadata": {},
   "outputs": [],
   "source": [
    "# prévisualiser la carte"
   ]
  },
  {
   "cell_type": "code",
   "execution_count": null,
   "id": "8328f35e",
   "metadata": {},
   "outputs": [],
   "source": [
    "ma_carte"
   ]
  },
  {
   "cell_type": "markdown",
   "id": "c691b3b6",
   "metadata": {},
   "source": [
    "Vous obtenez bien une carte, mais cette vue par défaut n'est ni satisfaisante ni optimale pour visualiser des données.\n",
    "\n",
    "Déclarez à nouveau votre carte, en renseignant au moins les paramètres `location` (coordonnées par défaut), `zoom_start` (zoom par défaut, basé sur la valeur de `location`), et `tiles` (fond de carte par défaut).\n",
    "\n",
    "Pour ce faire, vous pouvez vous aider de [cette page de la documentation de `folium`](https://python-visualization.github.io/folium/modules.html). Si vous ne lisez pas l'anglais, [cet article de *Tekipaki*](https://tekipaki.hypotheses.org/1225) peut également vous apporter des informations."
   ]
  },
  {
   "cell_type": "code",
   "execution_count": null,
   "id": "0fe2dcf2",
   "metadata": {},
   "outputs": [],
   "source": [
    "# déclarer à nouveau la carte avec ses paramètres"
   ]
  },
  {
   "cell_type": "code",
   "execution_count": null,
   "id": "5ea49422",
   "metadata": {},
   "outputs": [],
   "source": [
    "# prévisualiser à nouveau la carte"
   ]
  },
  {
   "cell_type": "markdown",
   "id": "76157560",
   "metadata": {},
   "source": [
    "C'est (normalement) beaucoup mieux comme ça !"
   ]
  },
  {
   "cell_type": "markdown",
   "id": "d38ef5fc",
   "metadata": {},
   "source": [
    "### Déclarer une couche de données"
   ]
  },
  {
   "cell_type": "markdown",
   "id": "8ffdfa4e",
   "metadata": {},
   "source": [
    "Il est temps d'ajouter à la carte les données récupérées sur Glottolog. Voici comment procéder :\n",
    "1. Déclarer une couche de données\n",
    "2. Ajouter les données à la couche\n",
    "3. Ajouter la couche à la carte\n",
    "\n",
    "La couche de données correspond à un objet de `folium` nommé `FeatureGroup`. Vous trouverez ses différents paramètres dans [la documentation](https://python-visualization.github.io/folium/modules.html#folium.map.FeatureGroup), mais vous pouvez ici l'initialiser avec seulement le paramètre `name`. \n",
    "\n",
    "Pour pouvoir être ajoutée à la carte ensuite il est indispensable de stocker les informations de la couche de données dans une variable ; je vous conseille de la nommer de façon à identifier quelles sont les données correspondantes (vous pouvez par exemple reprendre l'identifiant Glottolog de la langue que vous avez choisie)."
   ]
  },
  {
   "cell_type": "code",
   "execution_count": null,
   "id": "b88876e3",
   "metadata": {},
   "outputs": [],
   "source": [
    "# déclarer une couche de données en renseignant le paramètre name, l'associer à une variable nommée explicitement"
   ]
  },
  {
   "cell_type": "markdown",
   "id": "ba73411d",
   "metadata": {},
   "source": [
    "### Reporter les coordonnées géographiques dans la couche de données"
   ]
  },
  {
   "cell_type": "markdown",
   "id": "24daef1c",
   "metadata": {},
   "source": [
    "La couche de données existe maintenant dans le sens où une instance d'objet `FeatureGroup` a été créé, mais elle ne comporte aucune information (à part son nom), et n'est pas reliée à la carte.\n",
    "\n",
    "Pour rappel, les coordonnées sont actuellement stockées dans la variable `geojson_data`, au format GeoJSON."
   ]
  },
  {
   "cell_type": "markdown",
   "id": "ad4c0faf",
   "metadata": {},
   "source": [
    "Celles-ci correspondent à une série de points. Dans le code, chaque point correspondra à un objet `folium.CircleMarker()` qui prendra en paramètre les coordonnées géographiques `[latitude, longitude]`.\n",
    "\n",
    "Il n'est pas nécessaire de comprendre l'intégralité des informations, mais il faut au moins comprendre comment identifier :\n",
    "* Quelle portion de la structure JSON correspond à un point ?\n",
    "* Dans cette portion, où sont indiquées les coordonnées géographiques ?\n",
    "\n",
    "Vous pouvez les repérer en parcourant manuellement le contenu de `geojson_data`."
   ]
  },
  {
   "cell_type": "code",
   "execution_count": null,
   "id": "26a60d1d",
   "metadata": {},
   "outputs": [],
   "source": [
    "# afficher le contenu de la variable geojson_data"
   ]
  },
  {
   "cell_type": "markdown",
   "id": "1eafebc2",
   "metadata": {},
   "source": [
    "Il est plus efficace de parser le contenu pour le parcourir automatiquement, ce qui n'est pas possible en l'état car `geojson_data` est en fait une simple chaîne de caractères."
   ]
  },
  {
   "cell_type": "code",
   "execution_count": null,
   "id": "6fc661fb",
   "metadata": {},
   "outputs": [],
   "source": [
    "type(geojson_data)"
   ]
  },
  {
   "cell_type": "markdown",
   "id": "fda03ad5",
   "metadata": {},
   "source": [
    "Python dispose de différents moyens de lire du JSON, voici une façon de faire via `folium`.\n",
    "\n",
    "Exécutez la cellule ci-dessous, et vérifiez à quel type de données correspond la variable `geo_data`."
   ]
  },
  {
   "cell_type": "code",
   "execution_count": null,
   "id": "bcc1cc05",
   "metadata": {},
   "outputs": [],
   "source": [
    "geo_data = folium.GeoJson(geojson_data).data"
   ]
  },
  {
   "cell_type": "code",
   "execution_count": null,
   "id": "a82fab02",
   "metadata": {},
   "outputs": [],
   "source": [
    "# vérifier le type de geo_data"
   ]
  },
  {
   "cell_type": "markdown",
   "id": "2504a170",
   "metadata": {},
   "source": [
    "Le type `dict` correspond à un dictionnaire, c'est-à-dire une liste associative.\n",
    "\n",
    "`geo_data` peut maintenant être parcouru automatiquement avec les méthodes relatives à la classe `dict` ([documentation](https://docs.python.org/3/tutorial/datastructures.html#dictionaries)) ou avec des boucles. Par exemple :"
   ]
  },
  {
   "cell_type": "code",
   "execution_count": null,
   "id": "6a8d5756",
   "metadata": {},
   "outputs": [],
   "source": [
    "for key in geo_data:\n",
    "    print(key)"
   ]
  },
  {
   "cell_type": "markdown",
   "id": "907a7610",
   "metadata": {},
   "source": [
    "Vous avez maintenant tout ce qu'il vous faut pour ajouter vos données à la couche déclarée précédemment. \n",
    "\n",
    "Sachant qu'un point est ajouté avec la fonction `.add_to(nom_de_la_couche_de_donnees)`, décommentez et complétez le code de la cellule suivante :"
   ]
  },
  {
   "cell_type": "code",
   "execution_count": null,
   "id": "0309b575",
   "metadata": {},
   "outputs": [],
   "source": [
    "\"\"\"\n",
    "for feature in ...:\n",
    "    folium.CircleMarker(\n",
    "        location=...,\n",
    "    ).add_to(...)\n",
    "\"\"\""
   ]
  },
  {
   "cell_type": "markdown",
   "id": "ebb37280",
   "metadata": {},
   "source": [
    "### Ajouter la couche de données à la carte"
   ]
  },
  {
   "cell_type": "markdown",
   "id": "b97a69e9",
   "metadata": {},
   "source": [
    "Le plus dur est fait. La fonction `.add_to()` permet également d'ajouter une couche de données à une carte, en utilisant la syntaxe `nom_de_la_couche_de_donnees.add_to(nom_de_la_carte)`."
   ]
  },
  {
   "cell_type": "code",
   "execution_count": null,
   "id": "7795b81b",
   "metadata": {},
   "outputs": [],
   "source": [
    "# ajouter la couche de données à la carte"
   ]
  },
  {
   "cell_type": "markdown",
   "id": "86caa9e0",
   "metadata": {},
   "source": [
    "Félicitations, vous avez terminé ! 🎉 \n",
    "\n",
    "Les point apparaîtront maintenant lorsque vous visualiserez votre carte. Vous pouvez admirer le résultat de votre travail en appelant la variable correspondant à la carte."
   ]
  },
  {
   "cell_type": "code",
   "execution_count": null,
   "id": "2b34bbe1",
   "metadata": {},
   "outputs": [],
   "source": [
    "# visualiser la carte"
   ]
  },
  {
   "cell_type": "markdown",
   "id": "c33971a6",
   "metadata": {},
   "source": [
    "## Aller plus loin"
   ]
  },
  {
   "cell_type": "markdown",
   "id": "aab41a85",
   "metadata": {},
   "source": [
    "Si vous voulez continuer à vous amuser avec les représentations cartographiques produite par `folium`, voici quelques suggestions sur ce que vous pouvez essayer :\n",
    "\n",
    "* Exporter la carte dans un fichier HTML\n",
    "* Tracer d'autres séries de points\n",
    "* Tracer un ou plusieurs polygones\n",
    "* Capturer l'image de la carte dans un fichier PNG\n",
    "* Mettre en place un *layer control*\n",
    "* Définir des fonctions pour répéter aisément les traitements\n",
    "\n",
    "Les différents [articles consacrés à la cartographie de données linguistiques sur *Tekipaki*] pourront vous être utiles si besoin."
   ]
  },
  {
   "cell_type": "markdown",
   "id": "4fc358a1",
   "metadata": {},
   "source": [
    "---"
   ]
  },
  {
   "cell_type": "markdown",
   "id": "d4fee96e",
   "metadata": {},
   "source": [
    "<a rel=\"license\" href=\"http://creativecommons.org/licenses/by-sa/4.0/\"><img alt=\"Licence Creative Commons\" style=\"border-width:0\" src=\"https://i.creativecommons.org/l/by-sa/4.0/88x31.png\" /></a><br /><span xmlns:dct=\"http://purl.org/dc/terms/\" href=\"http://purl.org/dc/dcmitype/InteractiveResource\" property=\"dct:title\" rel=\"dct:type\">LTTAC_2021_TP_cartographie_linguistique</span> de <a xmlns:cc=\"http://creativecommons.org/ns#\" href=\"https://tekipaki.hypotheses.org/\" property=\"cc:attributionName\" rel=\"cc:attributionURL\">Alexander Delaporte</a> est mis à disposition selon les termes de la <a rel=\"license\" href=\"http://creativecommons.org/licenses/by-sa/4.0/\">licence Creative Commons Attribution -  Partage dans les Mêmes Conditions 4.0 International</a>.<br />Code source disponible : <a xmlns:dct=\"http://purl.org/dc/terms/\" href=\"https://github.com/alxdrdelaporte/LTTAC_2021_TP\" rel=\"dct:source\">https://github.com/alxdrdelaporte/LTTAC_2021_TP</a>."
   ]
  }
 ],
 "metadata": {
  "kernelspec": {
   "display_name": "Python 3",
   "language": "python",
   "name": "python3"
  },
  "language_info": {
   "codemirror_mode": {
    "name": "ipython",
    "version": 3
   },
   "file_extension": ".py",
   "mimetype": "text/x-python",
   "name": "python",
   "nbconvert_exporter": "python",
   "pygments_lexer": "ipython3",
   "version": "3.8.10"
  }
 },
 "nbformat": 4,
 "nbformat_minor": 5
}
